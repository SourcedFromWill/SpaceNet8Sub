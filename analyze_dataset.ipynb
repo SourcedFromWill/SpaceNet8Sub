{
 "cells": [
  {
   "cell_type": "code",
   "execution_count": 1,
   "id": "3444ea12",
   "metadata": {},
   "outputs": [
    {
     "name": "stderr",
     "output_type": "stream",
     "text": [
      "/opt/conda/lib/python3.8/site-packages/tqdm/auto.py:22: TqdmWarning: IProgress not found. Please update jupyter and ipywidgets. See https://ipywidgets.readthedocs.io/en/stable/user_install.html\n",
      "  from .autonotebook import tqdm as notebook_tqdm\n"
     ]
    },
    {
     "ename": "FileNotFoundError",
     "evalue": "[Errno 2] No such file or directory: ''",
     "output_type": "error",
     "traceback": [
      "\u001b[0;31m---------------------------------------------------------------------------\u001b[0m",
      "\u001b[0;31mFileNotFoundError\u001b[0m                         Traceback (most recent call last)",
      "\u001b[1;32m/home/will/sn8/baseline/analyze_dataset.ipynb Cell 1\u001b[0m in \u001b[0;36m<cell line: 9>\u001b[0;34m()\u001b[0m\n\u001b[1;32m      <a href='vscode-notebook-cell://attached-container%2B7b22636f6e7461696e65724e616d65223a222f7361645f626861736b617261227d/home/will/sn8/baseline/analyze_dataset.ipynb#ch0000000vscode-remote?line=4'>5</a>\u001b[0m \u001b[39mfrom\u001b[39;00m \u001b[39mdatasets\u001b[39;00m\u001b[39m.\u001b[39;00m\u001b[39mdatasets\u001b[39;00m \u001b[39mimport\u001b[39;00m SN8Dataset\n\u001b[1;32m      <a href='vscode-notebook-cell://attached-container%2B7b22636f6e7461696e65724e616d65223a222f7361645f626861736b617261227d/home/will/sn8/baseline/analyze_dataset.ipynb#ch0000000vscode-remote?line=6'>7</a>\u001b[0m input_csv \u001b[39m=\u001b[39m \u001b[39m\"\u001b[39m\u001b[39m\"\u001b[39m\n\u001b[0;32m----> <a href='vscode-notebook-cell://attached-container%2B7b22636f6e7461696e65724e616d65223a222f7361645f626861736b617261227d/home/will/sn8/baseline/analyze_dataset.ipynb#ch0000000vscode-remote?line=8'>9</a>\u001b[0m dataset \u001b[39m=\u001b[39m SN8Dataset(input_csv,\n\u001b[1;32m     <a href='vscode-notebook-cell://attached-container%2B7b22636f6e7461696e65724e616d65223a222f7361645f626861736b617261227d/home/will/sn8/baseline/analyze_dataset.ipynb#ch0000000vscode-remote?line=9'>10</a>\u001b[0m                      data_to_load\u001b[39m=\u001b[39;49m[\u001b[39m\"\u001b[39;49m\u001b[39mpreimg\u001b[39;49m\u001b[39m\"\u001b[39;49m,\u001b[39m\"\u001b[39;49m\u001b[39mpostimg\u001b[39;49m\u001b[39m\"\u001b[39;49m, \u001b[39m\"\u001b[39;49m\u001b[39mbuilding\u001b[39;49m\u001b[39m\"\u001b[39;49m, \u001b[39m\"\u001b[39;49m\u001b[39mroad\u001b[39;49m\u001b[39m\"\u001b[39;49m, \u001b[39m\"\u001b[39;49m\u001b[39mroadspeed\u001b[39;49m\u001b[39m\"\u001b[39;49m, \u001b[39m\"\u001b[39;49m\u001b[39mflood\u001b[39;49m\u001b[39m\"\u001b[39;49m],\n\u001b[1;32m     <a href='vscode-notebook-cell://attached-container%2B7b22636f6e7461696e65724e616d65223a222f7361645f626861736b617261227d/home/will/sn8/baseline/analyze_dataset.ipynb#ch0000000vscode-remote?line=10'>11</a>\u001b[0m                      img_size\u001b[39m=\u001b[39;49m(\u001b[39m1300\u001b[39;49m,\u001b[39m1300\u001b[39;49m))\n\u001b[1;32m     <a href='vscode-notebook-cell://attached-container%2B7b22636f6e7461696e65724e616d65223a222f7361645f626861736b617261227d/home/will/sn8/baseline/analyze_dataset.ipynb#ch0000000vscode-remote?line=11'>12</a>\u001b[0m batch_size\u001b[39m=\u001b[39m\u001b[39m1\u001b[39m\n\u001b[1;32m     <a href='vscode-notebook-cell://attached-container%2B7b22636f6e7461696e65724e616d65223a222f7361645f626861736b617261227d/home/will/sn8/baseline/analyze_dataset.ipynb#ch0000000vscode-remote?line=12'>13</a>\u001b[0m dataloader \u001b[39m=\u001b[39m torch\u001b[39m.\u001b[39mutils\u001b[39m.\u001b[39mdata\u001b[39m.\u001b[39mDataLoader(dataset, batch_size\u001b[39m=\u001b[39mbatch_size)\n",
      "File \u001b[0;32m/home/will/sn8/baseline/datasets/datasets.py:41\u001b[0m, in \u001b[0;36mSN8Dataset.__init__\u001b[0;34m(self, csv_filename, data_to_load, img_size)\u001b[0m\n\u001b[1;32m     38\u001b[0m \u001b[39mfor\u001b[39;00m i \u001b[39min\u001b[39;00m \u001b[39mself\u001b[39m\u001b[39m.\u001b[39mall_data_types:\n\u001b[1;32m     39\u001b[0m     dict_template[i] \u001b[39m=\u001b[39m \u001b[39mNone\u001b[39;00m\n\u001b[0;32m---> 41\u001b[0m \u001b[39mwith\u001b[39;00m \u001b[39mopen\u001b[39;49m(csv_filename, newline\u001b[39m=\u001b[39;49m\u001b[39m'\u001b[39;49m\u001b[39m'\u001b[39;49m) \u001b[39mas\u001b[39;00m csvfile:\n\u001b[1;32m     42\u001b[0m     reader \u001b[39m=\u001b[39m csv\u001b[39m.\u001b[39mDictReader(csvfile)\n\u001b[1;32m     43\u001b[0m     \u001b[39mfor\u001b[39;00m row \u001b[39min\u001b[39;00m reader:\n",
      "\u001b[0;31mFileNotFoundError\u001b[0m: [Errno 2] No such file or directory: ''"
     ]
    }
   ],
   "source": [
    "\"\"\" get percentage of each flood class in the labeled dataset \"\"\"\n",
    "\n",
    "import numpy as np\n",
    "\n",
    "from datasets.datasets import SN8Dataset\n",
    "\n",
    "input_csv = \"\"\n",
    "\n",
    "dataset = SN8Dataset(input_csv,\n",
    "                     data_to_load=[\"preimg\",\"postimg\", \"building\", \"road\", \"roadspeed\", \"flood\"],\n",
    "                     img_size=(1300,1300))\n",
    "batch_size=1\n",
    "dataloader = torch.utils.data.DataLoader(dataset, batch_size=batch_size)\n",
    "\n",
    "flood_labels = {0:\"non-flooded building\", 1:\"flooded building\", 2:\"non-flooded road\", 3:\"flooded road\",4:\"background\"}\n",
    "flood_hist = {0:0,1:0,2:0,3:0,4:0}\n",
    "\n",
    "for i, data in enumerate(dataloader):\n",
    "    preimg, postimg, building, road, roadspeed, flood = data # data from here is shape (batch_size, channels, height, width)\n",
    "    # preimg, postimg are shape=(batch_size, 3, h, w)\n",
    "    # building labels are shape=(batch_size, 1, h, w)\n",
    "    # road labels are shape=(batch_size, 1, h, w)\n",
    "    # roadspeed labels are shape=(batch_size, 8, h, w)\n",
    "    # flood labels are shape=(batch_size, 4, h, w)\n",
    "\n",
    "    preimg = preimg.cpu().numpy()[0]\n",
    "    postimg = postimg.cpu().numpy()[0]\n",
    "    flood = flood.cpu().numpy()[0]\n",
    "    building = building.cpu().numpy()[0]\n",
    "    road = road.cpu().numpy()[0]\n",
    "    roadspeed = roadspeed.cpu().numpy()[0]\n",
    "\n",
    "    flood_shape = flood.shape # (4, H, W).\n",
    "    total_pixs = flood.shape[1]*flood_shape[2]\n",
    "    this_samp_total = 0\n",
    "    for j in range(len(flood)):\n",
    "        flood_hist[j] += np.sum(flood[j])\n",
    "        this_samp_total += np.sum(flood[j])\n",
    "    flood_hist[4] += total_pixs - this_samp_total\n",
    "    print(i+1, end=\"\\r\")\n",
    "\n",
    "print()\n",
    "\n",
    "print(\"total percentages of foreground class in the dataset (excluding background):\")\n",
    "for i in range(len(flood_hist)-1):\n",
    "    print(f\"  {flood_labels[i]}: {np.round(flood_hist[i] / (flood_hist[0] + flood_hist[1] + flood_hist[2] + flood_hist[3]) * 100, 2)} %\")"
   ]
  },
  {
   "cell_type": "code",
   "execution_count": null,
   "id": "524974a3",
   "metadata": {},
   "outputs": [
    {
     "ename": "",
     "evalue": "",
     "output_type": "error",
     "traceback": [
      "\u001b[1;31mRunning cells with 'Python 3.8.10 64-bit' requires ipykernel package.\n",
      "Run the following command to install 'ipykernel' into the Python environment. \n",
      "Command: '/bin/python3 -m pip install ipykernel -U --user --force-reinstall'"
     ]
    }
   ],
   "source": []
  }
 ],
 "metadata": {
  "kernelspec": {
   "display_name": "Python 3.8.10 64-bit",
   "language": "python",
   "name": "python3"
  },
  "language_info": {
   "codemirror_mode": {
    "name": "ipython",
    "version": 3
   },
   "file_extension": ".py",
   "mimetype": "text/x-python",
   "name": "python",
   "nbconvert_exporter": "python",
   "pygments_lexer": "ipython3",
   "version": "3.8.10"
  },
  "vscode": {
   "interpreter": {
    "hash": "916dbcbb3f70747c44a77c7bcd40155683ae19c65e1c03b4aa3499c5328201f1"
   }
  }
 },
 "nbformat": 4,
 "nbformat_minor": 5
}
